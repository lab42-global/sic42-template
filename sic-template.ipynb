{
 "cells": [
  {
   "cell_type": "markdown",
   "metadata": {},
   "source": [
    "# SIC Quick Start Tutorial (v0.1 2022-11-10)\n",
    "\n",
    "Welcome to the SIC Quick Start Tutorial!\n",
    "Below is a brief introduction to the SIC Python package and its main features.\n",
    "Just follow the instructions and run the code cells to get started."
   ]
  },
  {
   "cell_type": "markdown",
   "metadata": {},
   "source": [
    "## 1. Installation\n",
    "\n",
    "The SIC package is available on PyPI and can be installed via pip:\n",
    "\n",
    "```bash\n",
    "pip install sic42\n",
    "```\n",
    "\n",
    "Evaluate the following cell to check it by clicking on the cell and pressing `Shift+Enter` or the `Run` button in the toolbar above."
   ]
  },
  {
   "cell_type": "code",
   "execution_count": null,
   "metadata": {},
   "outputs": [],
   "source": [
    "# Install the SIC package from the test PyPI repository\n",
    "%%capture\n",
    "%pip install -i https://test.pypi.org/pypi/ --extra-index-url https://pypi.org/simple sic42==0.2.0"
   ]
  },
  {
   "cell_type": "markdown",
   "metadata": {},
   "source": [
    "We need some additional files for this tutorial, so let's get them first from the GitHub Repo. Let's also remove the sample_data folder and move the content of the files from the GitHub Repo to the working directory. (Not needed in case you use the package locally.)"
   ]
  },
  {
   "cell_type": "code",
   "execution_count": null,
   "metadata": {},
   "outputs": [],
   "source": [
    "# Remove the sample data folder and clone the template repository from GitHub \n",
    "# Move the files from the template repository to the current directory\n",
    "%%capture\n",
    "!rm -rf /content/sample_data\n",
    "!git clone https://github.com/lab42-global/sic42-template.git\n",
    "!mv /content/sic42-template/* /content/\n",
    "!rm -rf /content/sic42-template\n"
   ]
  },
  {
   "cell_type": "markdown",
   "metadata": {},
   "source": [
    "## 2. Importing and testing the package\n",
    "\n",
    "Let's import the package and test it using the behavior scripts that are included in the package."
   ]
  },
  {
   "cell_type": "code",
   "execution_count": null,
   "metadata": {},
   "outputs": [],
   "source": [
    "# Test the installation by running the tournament using the template agents in the package\n",
    "# A folder named \"deathmatch_results\" should be created in the current directory\n",
    "# In there you will find the results, the logs and the replays of the tournament\n",
    "from sic42 import sic\n",
    "sic.Tournament().run_tournament()"
   ]
  },
  {
   "cell_type": "markdown",
   "metadata": {},
   "source": [
    "Let's check if the visualization works by running the following cell:"
   ]
  },
  {
   "cell_type": "code",
   "execution_count": null,
   "metadata": {},
   "outputs": [],
   "source": [
    "from IPython.display import HTML\n",
    "from base64 import b64encode\n",
    "video_path = '/content/deathmatch_results/round_1/game_1_Eater_Reproducer/set_1/visualization.mp4'\n",
    "\n",
    "mp4 = open(video_path,'rb').read()\n",
    "decoded_vid = \"data:video/mp4;base64,\" + b64encode(mp4).decode()\n",
    "HTML(f'<video width=400 controls><source src={decoded_vid} type=\"video/mp4\"></video>')"
   ]
  },
  {
   "cell_type": "markdown",
   "metadata": {},
   "source": [
    "## 3. Using your own behavior scripts and configuration files\n",
    "\n",
    "To use your own scripts and configuration files, you need to create a new folder to put the scripts in. We called it \"competitors\" and already copied it above from the GitHub Repo. Note that there should only be behavior scripts in this folder, no other files. The configuration files are in the main directory (or another folder you can speciy). Addditionaly, make sure that there are enough behavior scripts in the folder for the current game mode. E.g., for the deathmatch mode, there should be at least 2 behavior scripts in the folder (as the agents defined by them play against each other).\n",
    "\n",
    "Let's test this using the copied files from the GitHub Repo. (The behavior scripts are the same as those that come with the package.)"
   ]
  },
  {
   "cell_type": "code",
   "execution_count": null,
   "metadata": {},
   "outputs": [],
   "source": [
    "# If you want to run the tournament with your own agents, you can do so by providing the paths to the config and the competitors files\n",
    "from sic42 import sic\n",
    "config_path = '/content/deathmatch_config.json'\n",
    "competitors_path = '/content/competitors'\n",
    "tournament = sic.Tournament(\n",
    "        config_path=config_path,\n",
    "        competitors_path=competitors_path\n",
    "    )\n",
    "tournament.run_tournament()"
   ]
  },
  {
   "cell_type": "markdown",
   "metadata": {},
   "source": [
    "If the simulation was successful you should now find a folder called \"deathmatch_results\" containing the results of the simulation. The folder contains the final leaderboard, the log files of the the tournament and one folder per round that has been played. \n",
    "\n",
    "Each round folder is split into folders for each game, named after the competitors. Each folder contains a csv with the results of each game played between the two competitors as well as the time they used. Additionally there is one folder per set that has been played between the competitors. In there you can find the visualizations of the games as well as the log files and plots (if specified they should be created in the config file).\n",
    "\n",
    "In summary here is the folder structure of the results folder (if you use the default config files and the default oponents from the GitHub Repo (called \"Eater\" and \"Reproducer\")):\n",
    "\n",
    "```\n",
    "deathmatch_results\n",
    "├── leaderboard.csv\n",
    "├── tournament_log.json\n",
    "├── round_1\n",
    "│   ├── game_1_Reproducer_Eater\n",
    "│   │   ├── results.csv\n",
    "│   │   ├── times.csv\n",
    "│   │   ├── set_1\n",
    "│   │   │   ├── visualization.mp4\n",
    "│   │   │   ├── logs\n",
    "│   │   │   │   ├── Eater_actions.json\n",
    "│   │   │   │   ├── Eater_errors.json\n",
    "│   │   │   │   ├── Reproducer_actions.json\n",
    "│   │   │   │   ├── Reproducer_errors.json\n",
    "│   │   │   ├── plots\n",
    "│   │   │   │   ├── action_counts\n",
    "│   │   │   │   │   ├── attack_count.png\n",
    "│   │   │   │   │   ├── eat_count.png\n",
    "│   │   │   │   │   ├── ...\n",
    "│   │   │   │   ├── average_agent_attribute_values\n",
    "│   │   │   │   │   ├── average_energy_level.png\n",
    "│   │   │   │   │   ├── ...\n",
    "│   │   ├── set_2\n",
    "│   │   │   ├── ...\n",
    "│   ├── game_2_X_Y\n",
    "│   │   ├── ...\n",
    "│   ├── ...\n",
    "├── round_2\n",
    "│   ├── ...\n",
    "```\n"
   ]
  },
  {
   "cell_type": "markdown",
   "metadata": {},
   "source": [
    "## 4. Creating your own behavior scripts\n",
    "\n",
    "Creating your own behavior script is simple. Just create a new python file in the folder you created above and define a main function that is called by the simulation. The input the agent receives will be stored in a JSON file called \"agent_input.json\" in the same folder as the behavior script. The output of the agent should be stored in a JSON file called \"agent_output.json\" in the same folder as the behavior script. \n",
    "\n",
    "An easy way to read the \"agent_input.json\" is to use the same function as we have in our sample scripts called read_from_json:\n",
    "    \n",
    "```python\n",
    "import json\n",
    "\n",
    "def from_json(path='agent_input.json'):\n",
    "    with open(path, 'r') as fp:\n",
    "        json_obj = json.load(fp)\n",
    "    return (\n",
    "        json_obj['self_view'],\n",
    "        np.array(json_obj['relative_indices']),\n",
    "        np.array(json_obj['entities']),\n",
    "        np.array(json_obj['pheromones'], dtype='object')\n",
    "    )\n",
    "```\n",
    "\n",
    "The output of the agent should be a list of action name, action value pairs. The action name should be a string and the action value is e.g. a list of numbers. As an example an output that moves the agent to the right would look like this:\n",
    "\n",
    "```json\n",
    "[\n",
    "    [\"step\", [1, 0]]\n",
    "]\n",
    "```\n",
    "\n",
    "### 4.1 A simple example\n",
    "\n",
    "Let's create a simple behavior script that just moves the agent to the right and does nothing else. We will call it \"forward.py\" and put it in the \"competitors\" folder. The script should look like this:\n",
    "\n",
    "```python\n",
    "import json\n",
    "import sys\n",
    "sys.path.append('...')\n",
    "\n",
    "def from_json(path='agent_input.json'):\n",
    "    with open(path, 'r') as fp:\n",
    "        json_obj = json.load(fp)\n",
    "    return (\n",
    "        json_obj['self_view'],\n",
    "        np.array(json_obj['relative_indices']),\n",
    "        np.array(json_obj['entities']),\n",
    "        np.array(json_obj['pheromones'], dtype='object')\n",
    "    )\n",
    "\n",
    "def main():\n",
    "    \"\"\" simply move right \"\"\"\n",
    "    self_view, indices, entities, pheromones = from_json() # read input from json even though we don't need it\n",
    "    # Initialize output list containing the desired actions\n",
    "    desired_actions = []\n",
    "    # Move Right\n",
    "    desired_actions.append(('step', [0, 1]))\n",
    "    # Write output to json\n",
    "    with open('agent_output.json', 'w') as fp:\n",
    "        json.dump(desired_actions, fp)\n",
    "```\n",
    "\n",
    "Now let's make a file out of that and copy it to the competitors folder before running the simulation again. Let's do that in two steps:\n",
    "\n",
    "1. Create the file and copy it to the competitors folder (actually we create two files here, one for a left and one for a right moving agent to fill up the tournament roster)\n",
    "2. Run the simulation again\n",
    "\n",
    "You can do that by running the following two cells:"
   ]
  },
  {
   "cell_type": "code",
   "execution_count": null,
   "metadata": {},
   "outputs": [],
   "source": [
    "# Define the above Python code as a string\n",
    "python_code_right = \"\"\"\n",
    "import json\n",
    "import sys\n",
    "import numpy as np\n",
    "sys.path.append('...')\n",
    "\n",
    "def from_json(path='agent_input.json'):\n",
    "    with open(path, 'r') as fp:\n",
    "        json_obj = json.load(fp)\n",
    "    return (\n",
    "        json_obj['self_view'],\n",
    "        np.array(json_obj['relative_indices']),\n",
    "        np.array(json_obj['entities']),\n",
    "        np.array(json_obj['pheromones'], dtype='object')\n",
    "    )\n",
    "\n",
    "def main():\n",
    "    \\\"\\\"\\\" simply move right \\\"\\\"\\\"\n",
    "    self_view, indices, entities, pheromones = from_json() # read input from json even though we don't need it\n",
    "    # Initialize output list containing the desired actions\n",
    "    desired_actions = []\n",
    "    # Move Right\n",
    "    desired_actions.append(('step', [0, 1]))\n",
    "    # Write output to json\n",
    "    with open('agent_output.json', 'w') as fp:\n",
    "        json.dump(desired_actions, fp)\n",
    "\n",
    "# Call main function\n",
    "if __name__ == '__main__':\n",
    "    main()\n",
    "\"\"\"\n",
    "\n",
    "# Also create a left mover agent by changing the corresponding line in the code\n",
    "python_code_left = python_code_right.replace('Move Right', 'Move Left')\n",
    "python_code_left = python_code_left.replace('[0, 1]', '[0, -1]')\n",
    "\n",
    "import os\n",
    "# Get the current working directory\n",
    "cwd = os.getcwd()\n",
    "# Specify the filename\n",
    "right_filename = \"RightMover.py\"\n",
    "left_filename = \"LeftMover.py\"\n",
    "\n",
    "# Check if the competitors folder exists, if not, create it\n",
    "competitors_folder = 'competitors'\n",
    "competitors_folder = os.path.join(cwd, competitors_folder)\n",
    "if not os.path.exists(competitors_folder):\n",
    "    os.makedirs(competitors_folder)\n",
    "\n",
    "# Specify the full path\n",
    "right_file_path = os.path.join(competitors_folder, right_filename)\n",
    "left_filen_path = os.path.join(competitors_folder, left_filename)\n",
    "\n",
    "# Write the right mover agent to a Python file\n",
    "with open(right_file_path, 'w') as file:\n",
    "    file.write(python_code_right)\n",
    "    \n",
    "# Write the left mover agent to a Python file\n",
    "with open(left_filen_path.replace('Right', 'Left'), 'w') as file:\n",
    "    file.write(python_code_left)\n",
    "\n",
    "print(f\"Python files written to {competitors_folder}\")\n"
   ]
  },
  {
   "cell_type": "code",
   "execution_count": null,
   "metadata": {},
   "outputs": [],
   "source": [
    "# Run the tournament including the new agent\n",
    "from sic42 import sic\n",
    "config_path = '/content/deathmatch_config.json'\n",
    "competitors_path = '/content/competitors'\n",
    "tournament = sic.Tournament(\n",
    "        config_path=config_path,\n",
    "        competitors_path=competitors_path\n",
    "    )\n",
    "tournament.run_tournament()"
   ]
  },
  {
   "cell_type": "markdown",
   "metadata": {},
   "source": [
    "You should now find the corresponding visualisations and log files in the results folder. Note that the left and right moving agents die quickly as they are eating anything to replenish their energy."
   ]
  },
  {
   "cell_type": "code",
   "execution_count": null,
   "metadata": {},
   "outputs": [],
   "source": [
    "from IPython.display import HTML\n",
    "from base64 import b64encode\n",
    "video_path = '/content/deathmatch_results/round_1/game_1_RightMover_Reproducer/set_1/visualization.mp4'\n",
    "\n",
    "mp4 = open(video_path,'rb').read()\n",
    "decoded_vid = \"data:video/mp4;base64,\" + b64encode(mp4).decode()\n",
    "HTML(f'<video width=400 controls><source src={decoded_vid} type=\"video/mp4\"></video>')"
   ]
  },
  {
   "cell_type": "markdown",
   "metadata": {},
   "source": [
    "## 5. Changing or Creating your own configuration files\n",
    "\n",
    "For a start you can ignore most of the options in the configuration file. But maybe you would like to increase the number of time steps of each game?\n",
    "\n",
    "You can do that by opening the deathmatch_config.json which you find on the same level as this notebook (you should see a folder icon on the left side of the notebook). Then you can change the value of the \"n_timesteps\" option under \"simulation\" to e.g. 128. Then you can run the simulation again and see that the games now take longer.\n",
    "\n",
    "Similarly you can change the other options in the config file. See the documentation for more information on the options.\n",
    "\n",
    "Let's test that and change the number of time steps to 64. You can do that by running the following two cells:"
   ]
  },
  {
   "cell_type": "code",
   "execution_count": null,
   "metadata": {},
   "outputs": [],
   "source": [
    "import json\n",
    "\n",
    "# Define the path to the configuration file\n",
    "config_file_path = '/content/deathmatch_config.json'\n",
    "\n",
    "# Load the current configuration from the file\n",
    "with open(config_file_path, 'r') as file:\n",
    "    config_data = json.load(file)\n",
    "\n",
    "# Update the 'n_timesteps' value under 'simulation' to 74\n",
    "config_data['simulation']['n_timesteps'] = 64\n",
    "\n",
    "# Write the updated configuration back to the file\n",
    "with open(config_file_path, 'w') as file:\n",
    "    json.dump(config_data, file, indent=4)\n",
    "\n",
    "# Confirm the change was made (optional)\n",
    "print(\"Updated 'n_timesteps' to:\", config_data['simulation']['n_timesteps'])"
   ]
  },
  {
   "cell_type": "code",
   "execution_count": null,
   "metadata": {},
   "outputs": [],
   "source": [
    "# Run the tournament including the new agent\n",
    "from sic42 import sic\n",
    "config_path = '/content/deathmatch_config.json'\n",
    "competitors_path = '/content/competitors'\n",
    "tournament = sic.Tournament(\n",
    "        config_path=config_path,\n",
    "        competitors_path=competitors_path\n",
    "    )\n",
    "tournament.run_tournament()"
   ]
  },
  {
   "cell_type": "markdown",
   "metadata": {},
   "source": [
    "If everything worked as intended the simulation should now run for 64 time steps instead of 32. We can check the video again which should now run for 8 seconds instead of 4."
   ]
  },
  {
   "cell_type": "code",
   "execution_count": null,
   "metadata": {},
   "outputs": [],
   "source": [
    "from IPython.display import HTML\n",
    "from base64 import b64encode\n",
    "video_path = '/content/deathmatch_results/round_1/game_1_RightMover_Reproducer/set_1/visualization.mp4'\n",
    "\n",
    "mp4 = open(video_path,'rb').read()\n",
    "decoded_vid = \"data:video/mp4;base64,\" + b64encode(mp4).decode()\n",
    "HTML(f'<video width=400 controls><source src={decoded_vid} type=\"video/mp4\"></video>')"
   ]
  }
 ],
 "metadata": {
  "language_info": {
   "name": "python"
  }
 },
 "nbformat": 4,
 "nbformat_minor": 2
}
