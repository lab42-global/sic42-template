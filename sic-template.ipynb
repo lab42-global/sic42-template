{
 "cells": [
  {
   "cell_type": "markdown",
   "metadata": {},
   "source": [
    "# SIC Quick Start Tutorial (v0.1 2022-11-10)\n",
    "\n",
    "Welcome to the SIC Quick Start Tutorial!\n",
    "Below is a brief introduction to the SIC Python package and its main features.\n",
    "Just follow the instructions and run the code cells to get started."
   ]
  },
  {
   "cell_type": "markdown",
   "metadata": {},
   "source": [
    "## 1. Installation\n",
    "\n",
    "The SIC package is available on PyPI and can be installed via pip:\n",
    "\n",
    "```bash\n",
    "pip install sic42\n",
    "```\n",
    "\n",
    "Evaluate the following cell to check it by clicking on the cell and pressing `Shift+Enter` or the `Run` button in the toolbar above."
   ]
  },
  {
   "cell_type": "code",
   "execution_count": null,
   "metadata": {},
   "outputs": [],
   "source": [
    "# Install the SIC package from the test PyPI repository\n",
    "%%capture\n",
    "!pip install -i https://test.pypi.org/pypi/ --extra-index-url https://pypi.org/simple sic42==0.1.0"
   ]
  },
  {
   "cell_type": "markdown",
   "metadata": {},
   "source": [
    "We need some additional files for this tutorial, so let's get them first from the GitHub Repo. Let's also remove the sample_data folder and move the content of the files from the GitHub Repo to the working directory. (Not needed in case you use the package locally.)"
   ]
  },
  {
   "cell_type": "code",
   "execution_count": null,
   "metadata": {},
   "outputs": [],
   "source": [
    "# Remove the sample data folder and clone the template repository from GitHub \n",
    "# Move the files from the template repository to the current directory\n",
    "!rm -rf /content/sample_data\n",
    "!git clone https://github.com/lab42-global/sic42-template.git\n",
    "!mv /content/sic42-template/* /content/\n"
   ]
  },
  {
   "cell_type": "markdown",
   "metadata": {},
   "source": [
    "## 2. Importing and testing the package\n",
    "\n",
    "Let's import the package and test it using the behavior scripts that are included in the package."
   ]
  },
  {
   "cell_type": "code",
   "execution_count": null,
   "metadata": {},
   "outputs": [],
   "source": [
    "# Test the installation by running the tournament using the template agents in the package\n",
    "# A folder named \"deathmatch_results\" should be created in the current directory\n",
    "# In there you will find the results, the logs and the replays of the tournament\n",
    "from sic42 import sic\n",
    "sic.Tournament().run_tournament()"
   ]
  },
  {
   "cell_type": "markdown",
   "metadata": {},
   "source": [
    "## 3. Using your own behavior scripts and configuration files\n",
    "\n",
    "To use your own scripts and configuration files, you need to create a new folder to put the scripts in. We called it \"competitors\" and already copied it above from the GitHub Repo. Note that there should only be behavior scripts in this folder, no other files. The configuration files are in the main directory (or another folder you can speciy). Addditionaly, make sure that there are enough behavior scripts in the folder for the current game mode. E.g., for the deathmatch mode, there should be at least 2 behavior scripts in the folder (as the agents defined by them play against each other).\n",
    "\n",
    "Let's test this using the copied files from the GitHub Repo. (The behavior scripts are the same as those that come with the package.)"
   ]
  },
  {
   "cell_type": "code",
   "execution_count": null,
   "metadata": {},
   "outputs": [],
   "source": [
    "# If you want to run the tournament with your own agents, you can do so by providing the paths to the config and the competitors files\n",
    "from sic42 import sic\n",
    "config_path = '/content/deathmatch_config.json'\n",
    "competitors_path = '/content/competitors'\n",
    "tournament = sic.Tournament(\n",
    "        config_path=config_path,\n",
    "        competitors_path=competitors_path\n",
    "    )\n",
    "tournament.run_tournament()"
   ]
  },
  {
   "cell_type": "markdown",
   "metadata": {},
   "source": [
    "If the simulation was successful you should now find a folder called \"deathmatch_results\" containing the results of the simulation. The folder contains the final leaderboard, the log files of the the tournament and one folder per round that has been played. \n",
    "\n",
    "Each round folder is split into folders for each game, named after the competitors. Each folder contains a csv with the results of each game played between the two competitors as well as the time they used. Additionally there is one folder per set that has been played between the competitors. In there you can find the visualizations of the games as well as the log files and plots (if specified they should be created in the config file).\n",
    "\n",
    "In summary here is the folder structure of the results folder (if you use the default config files and the default oponents from the GitHub Repo (called \"Eater\" and \"Reproducer\")):\n",
    "\n",
    "```\n",
    "deathmatch_results\n",
    "├── leaderboard.csv\n",
    "├── tournament_log.json\n",
    "├── round_1\n",
    "│   ├── game_1_Reproducer_Eater\n",
    "│   │   ├── results.csv\n",
    "│   │   ├── times.csv\n",
    "│   │   ├── set_1\n",
    "│   │   │   ├── visualization.mp4\n",
    "│   │   │   ├── logs\n",
    "│   │   │   │   ├── Eater_actions.json\n",
    "│   │   │   │   ├── Eater_errors.json\n",
    "│   │   │   │   ├── Reproducer_actions.json\n",
    "│   │   │   │   ├── Reproducer_errors.json\n",
    "│   │   │   ├── plots\n",
    "│   │   │   │   ├── action_counts\n",
    "│   │   │   │   │   ├── attack_count.png\n",
    "│   │   │   │   │   ├── eat_count.png\n",
    "│   │   │   │   │   ├── ...\n",
    "│   │   │   │   ├── average_agent_attribute_values\n",
    "│   │   │   │   │   ├── average_energy_level.png\n",
    "│   │   │   │   │   ├── ...\n"
   ]
  }
 ],
 "metadata": {
  "language_info": {
   "name": "python"
  }
 },
 "nbformat": 4,
 "nbformat_minor": 2
}
